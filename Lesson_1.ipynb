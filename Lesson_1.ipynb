{
  "nbformat": 4,
  "nbformat_minor": 0,
  "metadata": {
    "kernelspec": {
      "name": "python3",
      "display_name": "Python 3"
    },
    "colab": {
      "name": "Lesson 1.ipynb",
      "provenance": [],
      "collapsed_sections": [],
      "include_colab_link": true
    }
  },
  "cells": [
    {
      "cell_type": "markdown",
      "metadata": {
        "id": "view-in-github",
        "colab_type": "text"
      },
      "source": [
        "<a href=\"https://colab.research.google.com/github/plotnikova-ancka/NN/blob/task2_1/Lesson_1.ipynb\" target=\"_parent\"><img src=\"https://colab.research.google.com/assets/colab-badge.svg\" alt=\"Open In Colab\"/></a>"
      ]
    },
    {
      "cell_type": "markdown",
      "metadata": {
        "id": "5yoZAb-Ttf0B",
        "colab_type": "text"
      },
      "source": [
        "Импорт библиотеки tensorflow и загрузка изображений из базы MNIST"
      ]
    },
    {
      "cell_type": "code",
      "metadata": {
        "id": "Z5UEkUaStf0F",
        "colab_type": "code",
        "colab": {}
      },
      "source": [
        "import tensorflow as tf\n",
        "mnist = tf.keras.datasets.mnist"
      ],
      "execution_count": 2,
      "outputs": []
    },
    {
      "cell_type": "markdown",
      "metadata": {
        "id": "307fIGDQtf0U",
        "colab_type": "text"
      },
      "source": [
        "Импорт библиотеки для рисования графиков и изображений"
      ]
    },
    {
      "cell_type": "code",
      "metadata": {
        "id": "OvQ6VAQZtf0a",
        "colab_type": "code",
        "colab": {}
      },
      "source": [
        "import matplotlib.pyplot as plt"
      ],
      "execution_count": 1,
      "outputs": []
    },
    {
      "cell_type": "markdown",
      "metadata": {
        "id": "S94zGSU8tf0j",
        "colab_type": "text"
      },
      "source": [
        "Перевод данных в таблицу тренировочных изображений, их классов (какая это цифра), а также тестовой выборки"
      ]
    },
    {
      "cell_type": "code",
      "metadata": {
        "id": "JQfKWav8tf0m",
        "colab_type": "code",
        "colab": {}
      },
      "source": [
        "(x_train, y_train),(x_test, y_test) = mnist.load_data()\n",
        "x_train, x_test = x_train , x_test "
      ],
      "execution_count": 15,
      "outputs": []
    },
    {
      "cell_type": "markdown",
      "metadata": {
        "id": "mMr2IzDotf0v",
        "colab_type": "text"
      },
      "source": [
        "Как устроена таблица изображений для обучения"
      ]
    },
    {
      "cell_type": "code",
      "metadata": {
        "id": "adi1fWR-tf0v",
        "colab_type": "code",
        "colab": {
          "base_uri": "https://localhost:8080/",
          "height": 34
        },
        "outputId": "2a3736de-38ca-4ea8-c0f1-caa75971101f"
      },
      "source": [
        "x_train.shape"
      ],
      "execution_count": 4,
      "outputs": [
        {
          "output_type": "execute_result",
          "data": {
            "text/plain": [
              "(60000, 28, 28)"
            ]
          },
          "metadata": {
            "tags": []
          },
          "execution_count": 4
        }
      ]
    },
    {
      "cell_type": "markdown",
      "metadata": {
        "id": "YQwXmKYStf05",
        "colab_type": "text"
      },
      "source": [
        "Это массив из 60000 элементов, каждый из которых это изображение 28 на 28 пикселей.\n",
        "Давайте его визуализируем"
      ]
    },
    {
      "cell_type": "code",
      "metadata": {
        "id": "Da-JLGu-tf07",
        "colab_type": "code",
        "colab": {
          "base_uri": "https://localhost:8080/",
          "height": 281
        },
        "outputId": "9844f15e-cf29-470c-fcd7-54aaa46e3dc2"
      },
      "source": [
        "plt.title(y_train[10])\n",
        "plt.imshow(x_train[10], cmap=plt.get_cmap('gray_r'))\n",
        "plt.show()"
      ],
      "execution_count": 5,
      "outputs": [
        {
          "output_type": "display_data",
          "data": {
            "image/png": "[encoded data removed]",
            "text/plain": [
              "<Figure size 432x288 with 1 Axes>"
            ]
          },
          "metadata": {
            "tags": [],
            "needs_background": "light"
          }
        }
      ]
    },
    {
      "cell_type": "markdown",
      "metadata": {
        "id": "5LZDGAJXtf1F",
        "colab_type": "text"
      },
      "source": [
        "Нам нужна только функция plt.imshow(x_train[1]), но это будет график без подписи, с неудобной тепловой картой, а также с лишним текстовым выводом. Можешь попробовать поубирать лишние строки и посмотреть.\n",
        "А теперь напишем свою функцию, которая будет визуализировать элемент обучающей выборки."
      ]
    },
    {
      "cell_type": "code",
      "metadata": {
        "id": "WbNtX3jUtf1H",
        "colab_type": "code",
        "colab": {}
      },
      "source": [
        "def display_digit(num):\n",
        "    label = y_train[num]\n",
        "    image = x_train[num]\n",
        "    plt.title('Example: {}  Label: {}'.format(num, label))\n",
        "    plt.imshow(image, cmap=plt.get_cmap('gray_r'))\n",
        "    plt.show()"
      ],
      "execution_count": 16,
      "outputs": []
    },
    {
      "cell_type": "markdown",
      "metadata": {
        "id": "x0tOKWM8tf1O",
        "colab_type": "text"
      },
      "source": [
        "Проверим, что функция работает"
      ]
    },
    {
      "cell_type": "code",
      "metadata": {
        "id": "zttpRcv4tf1O",
        "colab_type": "code",
        "colab": {
          "base_uri": "https://localhost:8080/",
          "height": 281
        },
        "outputId": "71ea999b-14ec-4dfe-d4e9-52d30d5d07ed"
      },
      "source": [
        "display_digit(2908)"
      ],
      "execution_count": 17,
      "outputs": [
        {
          "output_type": "display_data",
          "data": {
            "image/png": "[encoded data removed]",
            "text/plain": [
              "<Figure size 432x288 with 1 Axes>"
            ]
          },
          "metadata": {
            "tags": [],
            "needs_background": "light"
          }
        }
      ]
    },
    {
      "cell_type": "markdown",
      "metadata": {
        "id": "aoYCT1cxtf1V",
        "colab_type": "text"
      },
      "source": [
        "Теперь поясним что за машину мы обучили. Нейронная сеть начинается с формата вводных данных (28х28), а далее идёт один слой сети из 512 элементов с функцией активации relu. Сколько в нём коэффициентов?\n",
        "После этого мы будем обнулять 20% выходов с 512 нейронов. Добавим 10 нейронов, выход которых будет приведен от действительных чисел к вероятности, в сумме дающей единицу. Что это за 10 вероятностей? Вероятность, что это именно одно из 10 чисел, на которые мы классифицируем."
      ]
    },
    {
      "cell_type": "code",
      "metadata": {
        "id": "bmu195oItf1Y",
        "colab_type": "code",
        "colab": {}
      },
      "source": [
        "model = tf.keras.models.Sequential([\n",
        "  tf.keras.layers.Flatten(input_shape=(28, 28)),\n",
        "  tf.keras.layers.Dense(100, activation=tf.nn.relu),\n",
        "  tf.keras.layers.Dropout(0.0),\n",
        "  tf.keras.layers.Dense(10, activation=tf.nn.softmax)\n",
        "])"
      ],
      "execution_count": 18,
      "outputs": []
    },
    {
      "cell_type": "markdown",
      "metadata": {
        "id": "e7d7U9-Qtf1f",
        "colab_type": "text"
      },
      "source": [
        "Теперь мы готовим сеть к запуску обучения. Связи нейронов это только часть обучения. Нужно выбрать метод поиска правильных коэффициентов, нужно выбрать функцию ошибки (функцию потерь). Также можно указать какую информацию мы хотим получать во время обучения."
      ]
    },
    {
      "cell_type": "code",
      "metadata": {
        "id": "CyyJSDU9tf1h",
        "colab_type": "code",
        "colab": {}
      },
      "source": [
        "model.compile(optimizer=tf.keras.optimizers.Adam(learning_rate=0.0001),\n",
        "              loss=tf.keras.losses.sparse_categorical_crossentropy,\n",
        "              metrics=['accuracy'])"
      ],
      "execution_count": 19,
      "outputs": []
    },
    {
      "cell_type": "markdown",
      "metadata": {
        "id": "fsFZVbs5tf1p",
        "colab_type": "text"
      },
      "source": [
        "Теперь мы можем запустить обучение на обучающей выборке"
      ]
    },
    {
      "cell_type": "code",
      "metadata": {
        "id": "4wH4_YhOtf1q",
        "colab_type": "code",
        "colab": {
          "base_uri": "https://localhost:8080/",
          "height": 168
        },
        "outputId": "0ce60810-c97e-4d11-dcbb-a393524769c7"
      },
      "source": [
        "model.fit(x_train, y_train, epochs=4)"
      ],
      "execution_count": 20,
      "outputs": [
        {
          "output_type": "stream",
          "text": [
            "Epoch 1/4\n",
            "1875/1875 [==============================] - 3s 2ms/step - loss: 9.4716 - accuracy: 0.7860\n",
            "Epoch 2/4\n",
            "1875/1875 [==============================] - 3s 2ms/step - loss: 2.3096 - accuracy: 0.8980\n",
            "Epoch 3/4\n",
            "1875/1875 [==============================] - 3s 2ms/step - loss: 1.3694 - accuracy: 0.9197\n",
            "Epoch 4/4\n",
            "1875/1875 [==============================] - 3s 2ms/step - loss: 0.9139 - accuracy: 0.9354\n"
          ],
          "name": "stdout"
        },
        {
          "output_type": "execute_result",
          "data": {
            "text/plain": [
              "<tensorflow.python.keras.callbacks.History at 0x7f3ce3f33c50>"
            ]
          },
          "metadata": {
            "tags": []
          },
          "execution_count": 20
        }
      ]
    },
    {
      "cell_type": "markdown",
      "metadata": {
        "id": "USAuX6WLtf1y",
        "colab_type": "text"
      },
      "source": [
        "Сеть уже обучена. Есть два числа, которые показывают качество обучения: функция потерь (мы её как раз минимизируем) и точность распознавания (наибольшая вероятность отдана верному классу). Но проверять надо на тестовой выборке, где вероятность будет меньше."
      ]
    },
    {
      "cell_type": "code",
      "metadata": {
        "id": "ChZ5Qh0Mtf10",
        "colab_type": "code",
        "colab": {
          "base_uri": "https://localhost:8080/",
          "height": 50
        },
        "outputId": "45283b1f-dfd3-45e2-bff5-fd6f556ede62"
      },
      "source": [
        "loss, acc = model.evaluate(x_test, y_test)\n",
        "print(\"Loss = {}, accuracy = {}\".format(loss, acc))"
      ],
      "execution_count": 21,
      "outputs": [
        {
          "output_type": "stream",
          "text": [
            "313/313 [==============================] - 0s 1ms/step - loss: 1.1458 - accuracy: 0.9274\n",
            "Loss = 1.145795464515686, accuracy = 0.9273999929428101\n"
          ],
          "name": "stdout"
        }
      ]
    },
    {
      "cell_type": "code",
      "metadata": {
        "id": "VSTrTttjtf1_",
        "colab_type": "code",
        "colab": {
          "base_uri": "https://localhost:8080/",
          "height": 50
        },
        "outputId": "b6d4ccd3-db0e-44b9-e5a8-3390885df729"
      },
      "source": [
        "loss, acc = model.evaluate(x_train, y_train)\n",
        "print(\"Loss = {}, accuracy = {}\".format(loss, acc))"
      ],
      "execution_count": 22,
      "outputs": [
        {
          "output_type": "stream",
          "text": [
            "1875/1875 [==============================] - 3s 1ms/step - loss: 0.6092 - accuracy: 0.9479\n",
            "Loss = 0.609218418598175, accuracy = 0.9479333162307739\n"
          ],
          "name": "stdout"
        }
      ]
    },
    {
      "cell_type": "markdown",
      "metadata": {
        "id": "HRa7nSD6tf2E",
        "colab_type": "text"
      },
      "source": [
        "Наконец можно сделать предсказание для массива входжнх изображений. Выберем изображение 0 и его значение. Получим вектор предсказания. Видно, что предсказание идеально совпадает для нулевого элемента."
      ]
    },
    {
      "cell_type": "code",
      "metadata": {
        "id": "-vlwAAIptf2H",
        "colab_type": "code",
        "colab": {
          "base_uri": "https://localhost:8080/",
          "height": 67
        },
        "outputId": "15d91a8a-6b8d-4b81-b6a8-8ce3782784c0"
      },
      "source": [
        "predictions = model.predict(x_test[0:1,:,:])\n",
        "print(predictions)\n",
        "print(y_test[0])"
      ],
      "execution_count": 23,
      "outputs": [
        {
          "output_type": "stream",
          "text": [
            "[[0.0000000e+00 0.0000000e+00 1.0202705e-33 0.0000000e+00 0.0000000e+00\n",
            "  0.0000000e+00 0.0000000e+00 1.0000000e+00 0.0000000e+00 0.0000000e+00]]\n",
            "7\n"
          ],
          "name": "stdout"
        }
      ]
    }
  ]
}