{
  "nbformat": 4,
  "nbformat_minor": 0,
  "metadata": {
    "colab": {
      "name": "exp_3.1.ipynb",
      "provenance": [],
      "collapsed_sections": [],
      "authorship_tag": "ABX9TyPWHANtiGZcz/EW4bWuXUTq",
      "include_colab_link": true
    },
    "kernelspec": {
      "name": "python3",
      "display_name": "Python 3"
    }
  },
  "cells": [
    {
      "cell_type": "markdown",
      "metadata": {
        "id": "view-in-github",
        "colab_type": "text"
      },
      "source": [
        "<a href=\"https://colab.research.google.com/github/plotnikova-ancka/NN/blob/master/exp_3_1.ipynb\" target=\"_parent\"><img src=\"https://colab.research.google.com/assets/colab-badge.svg\" alt=\"Open In Colab\"/></a>"
      ]
    },
    {
      "cell_type": "code",
      "metadata": {
        "id": "3e3Sa8qo3tHX"
      },
      "source": [
        "import tensorflow as tf\n",
        "mnist = tf.keras.datasets.mnist\n",
        "import numpy as np"
      ],
      "execution_count": 1,
      "outputs": []
    },
    {
      "cell_type": "code",
      "metadata": {
        "id": "IiJUDJxx3wAL"
      },
      "source": [
        "import matplotlib.pyplot as plt"
      ],
      "execution_count": 2,
      "outputs": []
    },
    {
      "cell_type": "code",
      "metadata": {
        "id": "fq55vI1z3ye_",
        "outputId": "7cd2706f-7429-4e2a-fb11-c8781308a8f5",
        "colab": {
          "base_uri": "https://localhost:8080/",
          "height": 54
        }
      },
      "source": [
        "(x_train, y_train),(x_test, y_test) = mnist.load_data()\n",
        "x_train, x_test = x_train / 255.0, x_test / 255.0"
      ],
      "execution_count": 3,
      "outputs": [
        {
          "output_type": "stream",
          "text": [
            "Downloading data from https://storage.googleapis.com/tensorflow/tf-keras-datasets/mnist.npz\n",
            "11493376/11490434 [==============================] - 0s 0us/step\n"
          ],
          "name": "stdout"
        }
      ]
    },
    {
      "cell_type": "code",
      "metadata": {
        "id": "UDLQqQQJ31Il"
      },
      "source": [
        "model_1 = tf.keras.models.Sequential([\n",
        "  tf.keras.layers.Flatten(input_shape=(28, 28)),\n",
        "  tf.keras.layers.Dropout(0.2),\n",
        "  tf.keras.layers.Dense(40, activation=tf.nn.relu),\n",
        "  tf.keras.layers.Dense(10, activation=tf.nn.softmax)\n",
        "])"
      ],
      "execution_count": 64,
      "outputs": []
    },
    {
      "cell_type": "code",
      "metadata": {
        "id": "7VfwXYoR371u"
      },
      "source": [
        "model_2 = tf.keras.models.Sequential([\n",
        "  tf.keras.layers.Flatten(input_shape=(28, 28)),\n",
        "  tf.keras.layers.Dropout(0.2),\n",
        "  tf.keras.layers.Dense(100, activation=tf.nn.relu),\n",
        "  tf.keras.layers.Dropout(0.0),\n",
        "  tf.keras.layers.Dense(10, activation=tf.nn.softmax)\n",
        "])"
      ],
      "execution_count": 44,
      "outputs": []
    },
    {
      "cell_type": "code",
      "metadata": {
        "id": "wUWLmKB-3-4b"
      },
      "source": [
        "model_1.compile(optimizer=tf.keras.optimizers.Adam(learning_rate=0.0001),\n",
        "              loss=tf.keras.losses.sparse_categorical_crossentropy,\n",
        "              metrics=['accuracy'])\n"
      ],
      "execution_count": 65,
      "outputs": []
    },
    {
      "cell_type": "code",
      "metadata": {
        "id": "7AubkdwT4BoD"
      },
      "source": [
        "model_2.compile(optimizer=tf.keras.optimizers.Adam(learning_rate=0.0001),\n",
        "              loss=tf.keras.losses.sparse_categorical_crossentropy,\n",
        "              metrics=['accuracy'])\n"
      ],
      "execution_count": 46,
      "outputs": []
    },
    {
      "cell_type": "code",
      "metadata": {
        "id": "NEVWhad54JAX",
        "outputId": "71b39f97-c0b7-46bf-8542-d620e1186b25",
        "colab": {
          "base_uri": "https://localhost:8080/",
          "height": 1000
        }
      },
      "source": [
        "history_1 = model_1.fit(x_train, y_train, epochs=100, validation_data=(x_test, y_test)) #100"
      ],
      "execution_count": 66,
      "outputs": [
        {
          "output_type": "stream",
          "text": [
            "Epoch 1/100\n",
            "1875/1875 [==============================] - 4s 2ms/step - loss: 0.9268 - accuracy: 0.7512 - val_loss: 0.4357 - val_accuracy: 0.8921\n",
            "Epoch 2/100\n",
            "1875/1875 [==============================] - 5s 2ms/step - loss: 0.4207 - accuracy: 0.8842 - val_loss: 0.3325 - val_accuracy: 0.9100\n",
            "Epoch 3/100\n",
            "1875/1875 [==============================] - 5s 2ms/step - loss: 0.3522 - accuracy: 0.9004 - val_loss: 0.2904 - val_accuracy: 0.9195\n",
            "Epoch 4/100\n",
            "1875/1875 [==============================] - 5s 2ms/step - loss: 0.3184 - accuracy: 0.9089 - val_loss: 0.2663 - val_accuracy: 0.9260\n",
            "Epoch 5/100\n",
            "1875/1875 [==============================] - 5s 2ms/step - loss: 0.2942 - accuracy: 0.9152 - val_loss: 0.2497 - val_accuracy: 0.9297\n",
            "Epoch 6/100\n",
            "1875/1875 [==============================] - 5s 3ms/step - loss: 0.2761 - accuracy: 0.9206 - val_loss: 0.2340 - val_accuracy: 0.9321\n",
            "Epoch 7/100\n",
            "1875/1875 [==============================] - 4s 2ms/step - loss: 0.2607 - accuracy: 0.9243 - val_loss: 0.2227 - val_accuracy: 0.9364\n",
            "Epoch 8/100\n",
            "1875/1875 [==============================] - 4s 2ms/step - loss: 0.2474 - accuracy: 0.9287 - val_loss: 0.2142 - val_accuracy: 0.9383\n",
            "Epoch 9/100\n",
            "1875/1875 [==============================] - 5s 2ms/step - loss: 0.2372 - accuracy: 0.9317 - val_loss: 0.2050 - val_accuracy: 0.9417\n",
            "Epoch 10/100\n",
            "1875/1875 [==============================] - 5s 2ms/step - loss: 0.2291 - accuracy: 0.9342 - val_loss: 0.1967 - val_accuracy: 0.9440\n",
            "Epoch 11/100\n",
            "1875/1875 [==============================] - 5s 3ms/step - loss: 0.2206 - accuracy: 0.9356 - val_loss: 0.1896 - val_accuracy: 0.9456\n",
            "Epoch 12/100\n",
            "1875/1875 [==============================] - 5s 3ms/step - loss: 0.2145 - accuracy: 0.9375 - val_loss: 0.1849 - val_accuracy: 0.9466\n",
            "Epoch 13/100\n",
            "1875/1875 [==============================] - 4s 2ms/step - loss: 0.2053 - accuracy: 0.9400 - val_loss: 0.1794 - val_accuracy: 0.9478\n",
            "Epoch 14/100\n",
            "1875/1875 [==============================] - 5s 2ms/step - loss: 0.2002 - accuracy: 0.9410 - val_loss: 0.1755 - val_accuracy: 0.9484\n",
            "Epoch 15/100\n",
            "1875/1875 [==============================] - 5s 3ms/step - loss: 0.1932 - accuracy: 0.9429 - val_loss: 0.1688 - val_accuracy: 0.9510\n",
            "Epoch 16/100\n",
            "1875/1875 [==============================] - 5s 3ms/step - loss: 0.1896 - accuracy: 0.9432 - val_loss: 0.1666 - val_accuracy: 0.9509\n",
            "Epoch 17/100\n",
            "1875/1875 [==============================] - 5s 3ms/step - loss: 0.1854 - accuracy: 0.9460 - val_loss: 0.1624 - val_accuracy: 0.9519\n",
            "Epoch 18/100\n",
            "1875/1875 [==============================] - 5s 3ms/step - loss: 0.1797 - accuracy: 0.9463 - val_loss: 0.1572 - val_accuracy: 0.9549\n",
            "Epoch 19/100\n",
            "1875/1875 [==============================] - 5s 3ms/step - loss: 0.1749 - accuracy: 0.9490 - val_loss: 0.1557 - val_accuracy: 0.9540\n",
            "Epoch 20/100\n",
            "1875/1875 [==============================] - 5s 2ms/step - loss: 0.1719 - accuracy: 0.9495 - val_loss: 0.1514 - val_accuracy: 0.9553\n",
            "Epoch 21/100\n",
            "1875/1875 [==============================] - 4s 2ms/step - loss: 0.1674 - accuracy: 0.9494 - val_loss: 0.1469 - val_accuracy: 0.9556\n",
            "Epoch 22/100\n",
            "1875/1875 [==============================] - 5s 3ms/step - loss: 0.1639 - accuracy: 0.9503 - val_loss: 0.1442 - val_accuracy: 0.9566\n",
            "Epoch 23/100\n",
            "1875/1875 [==============================] - 5s 2ms/step - loss: 0.1603 - accuracy: 0.9525 - val_loss: 0.1414 - val_accuracy: 0.9576\n",
            "Epoch 24/100\n",
            "1875/1875 [==============================] - 5s 2ms/step - loss: 0.1549 - accuracy: 0.9538 - val_loss: 0.1393 - val_accuracy: 0.9578\n",
            "Epoch 25/100\n",
            "1875/1875 [==============================] - 5s 3ms/step - loss: 0.1542 - accuracy: 0.9533 - val_loss: 0.1374 - val_accuracy: 0.9593\n",
            "Epoch 26/100\n",
            "1875/1875 [==============================] - 5s 2ms/step - loss: 0.1509 - accuracy: 0.9556 - val_loss: 0.1356 - val_accuracy: 0.9593\n",
            "Epoch 27/100\n",
            "1875/1875 [==============================] - 5s 3ms/step - loss: 0.1476 - accuracy: 0.9565 - val_loss: 0.1327 - val_accuracy: 0.9601\n",
            "Epoch 28/100\n",
            "1875/1875 [==============================] - 5s 3ms/step - loss: 0.1457 - accuracy: 0.9561 - val_loss: 0.1323 - val_accuracy: 0.9602\n",
            "Epoch 29/100\n",
            "1875/1875 [==============================] - 5s 3ms/step - loss: 0.1418 - accuracy: 0.9584 - val_loss: 0.1296 - val_accuracy: 0.9611\n",
            "Epoch 30/100\n",
            "1875/1875 [==============================] - 5s 2ms/step - loss: 0.1403 - accuracy: 0.9586 - val_loss: 0.1275 - val_accuracy: 0.9614\n",
            "Epoch 31/100\n",
            "1875/1875 [==============================] - 5s 2ms/step - loss: 0.1375 - accuracy: 0.9587 - val_loss: 0.1260 - val_accuracy: 0.9617\n",
            "Epoch 32/100\n",
            "1875/1875 [==============================] - 5s 2ms/step - loss: 0.1345 - accuracy: 0.9601 - val_loss: 0.1230 - val_accuracy: 0.9624\n",
            "Epoch 33/100\n",
            "1875/1875 [==============================] - 5s 2ms/step - loss: 0.1327 - accuracy: 0.9606 - val_loss: 0.1214 - val_accuracy: 0.9632\n",
            "Epoch 34/100\n",
            "1875/1875 [==============================] - 4s 2ms/step - loss: 0.1317 - accuracy: 0.9604 - val_loss: 0.1207 - val_accuracy: 0.9639\n",
            "Epoch 35/100\n",
            "1875/1875 [==============================] - 4s 2ms/step - loss: 0.1280 - accuracy: 0.9618 - val_loss: 0.1192 - val_accuracy: 0.9648\n",
            "Epoch 36/100\n",
            "1875/1875 [==============================] - 5s 2ms/step - loss: 0.1279 - accuracy: 0.9619 - val_loss: 0.1174 - val_accuracy: 0.9648\n",
            "Epoch 37/100\n",
            "1875/1875 [==============================] - 4s 2ms/step - loss: 0.1254 - accuracy: 0.9615 - val_loss: 0.1168 - val_accuracy: 0.9654\n",
            "Epoch 38/100\n",
            "1875/1875 [==============================] - 4s 2ms/step - loss: 0.1225 - accuracy: 0.9631 - val_loss: 0.1160 - val_accuracy: 0.9658\n",
            "Epoch 39/100\n",
            "1875/1875 [==============================] - 4s 2ms/step - loss: 0.1219 - accuracy: 0.9638 - val_loss: 0.1146 - val_accuracy: 0.9659\n",
            "Epoch 40/100\n",
            "1875/1875 [==============================] - 4s 2ms/step - loss: 0.1196 - accuracy: 0.9643 - val_loss: 0.1140 - val_accuracy: 0.9663\n",
            "Epoch 41/100\n",
            "1875/1875 [==============================] - 5s 3ms/step - loss: 0.1192 - accuracy: 0.9643 - val_loss: 0.1124 - val_accuracy: 0.9657\n",
            "Epoch 42/100\n",
            "1875/1875 [==============================] - 5s 3ms/step - loss: 0.1159 - accuracy: 0.9650 - val_loss: 0.1120 - val_accuracy: 0.9663\n",
            "Epoch 43/100\n",
            "1875/1875 [==============================] - 5s 2ms/step - loss: 0.1158 - accuracy: 0.9652 - val_loss: 0.1112 - val_accuracy: 0.9666\n",
            "Epoch 44/100\n",
            "1875/1875 [==============================] - 5s 2ms/step - loss: 0.1139 - accuracy: 0.9652 - val_loss: 0.1110 - val_accuracy: 0.9666\n",
            "Epoch 45/100\n",
            "1875/1875 [==============================] - 4s 2ms/step - loss: 0.1140 - accuracy: 0.9657 - val_loss: 0.1082 - val_accuracy: 0.9678\n",
            "Epoch 46/100\n",
            "1875/1875 [==============================] - 6s 3ms/step - loss: 0.1089 - accuracy: 0.9668 - val_loss: 0.1080 - val_accuracy: 0.9679\n",
            "Epoch 47/100\n",
            "1875/1875 [==============================] - 6s 3ms/step - loss: 0.1092 - accuracy: 0.9674 - val_loss: 0.1075 - val_accuracy: 0.9692\n",
            "Epoch 48/100\n",
            "1875/1875 [==============================] - 5s 3ms/step - loss: 0.1085 - accuracy: 0.9668 - val_loss: 0.1062 - val_accuracy: 0.9681\n",
            "Epoch 49/100\n",
            "1875/1875 [==============================] - 8s 4ms/step - loss: 0.1078 - accuracy: 0.9680 - val_loss: 0.1051 - val_accuracy: 0.9691\n",
            "Epoch 50/100\n",
            "1875/1875 [==============================] - 5s 3ms/step - loss: 0.1062 - accuracy: 0.9677 - val_loss: 0.1048 - val_accuracy: 0.9686\n",
            "Epoch 51/100\n",
            "1875/1875 [==============================] - 5s 3ms/step - loss: 0.1042 - accuracy: 0.9684 - val_loss: 0.1033 - val_accuracy: 0.9696\n",
            "Epoch 52/100\n",
            "1875/1875 [==============================] - 5s 3ms/step - loss: 0.1044 - accuracy: 0.9683 - val_loss: 0.1034 - val_accuracy: 0.9686\n",
            "Epoch 53/100\n",
            "1875/1875 [==============================] - 5s 3ms/step - loss: 0.1037 - accuracy: 0.9679 - val_loss: 0.1023 - val_accuracy: 0.9696\n",
            "Epoch 54/100\n",
            "1875/1875 [==============================] - 5s 3ms/step - loss: 0.1021 - accuracy: 0.9692 - val_loss: 0.1023 - val_accuracy: 0.9699\n",
            "Epoch 55/100\n",
            "1875/1875 [==============================] - 5s 2ms/step - loss: 0.1001 - accuracy: 0.9693 - val_loss: 0.1016 - val_accuracy: 0.9694\n",
            "Epoch 56/100\n",
            "1875/1875 [==============================] - 5s 2ms/step - loss: 0.1006 - accuracy: 0.9695 - val_loss: 0.1020 - val_accuracy: 0.9695\n",
            "Epoch 57/100\n",
            "1875/1875 [==============================] - 5s 3ms/step - loss: 0.1004 - accuracy: 0.9695 - val_loss: 0.1004 - val_accuracy: 0.9699\n",
            "Epoch 58/100\n",
            "1875/1875 [==============================] - 5s 3ms/step - loss: 0.0972 - accuracy: 0.9708 - val_loss: 0.1006 - val_accuracy: 0.9694\n",
            "Epoch 59/100\n",
            "1875/1875 [==============================] - 5s 3ms/step - loss: 0.0978 - accuracy: 0.9706 - val_loss: 0.1006 - val_accuracy: 0.9701\n",
            "Epoch 60/100\n",
            "1875/1875 [==============================] - 5s 3ms/step - loss: 0.0961 - accuracy: 0.9707 - val_loss: 0.1007 - val_accuracy: 0.9702\n",
            "Epoch 61/100\n",
            "1875/1875 [==============================] - 5s 3ms/step - loss: 0.0951 - accuracy: 0.9709 - val_loss: 0.1002 - val_accuracy: 0.9701\n",
            "Epoch 62/100\n",
            "1875/1875 [==============================] - 5s 2ms/step - loss: 0.0947 - accuracy: 0.9710 - val_loss: 0.0995 - val_accuracy: 0.9702\n",
            "Epoch 63/100\n",
            "1875/1875 [==============================] - 5s 3ms/step - loss: 0.0943 - accuracy: 0.9713 - val_loss: 0.0981 - val_accuracy: 0.9712\n",
            "Epoch 64/100\n",
            "1875/1875 [==============================] - 4s 2ms/step - loss: 0.0948 - accuracy: 0.9713 - val_loss: 0.0980 - val_accuracy: 0.9713\n",
            "Epoch 65/100\n",
            "1875/1875 [==============================] - 5s 3ms/step - loss: 0.0935 - accuracy: 0.9717 - val_loss: 0.0976 - val_accuracy: 0.9708\n",
            "Epoch 66/100\n",
            "1875/1875 [==============================] - 4s 2ms/step - loss: 0.0923 - accuracy: 0.9721 - val_loss: 0.0977 - val_accuracy: 0.9716\n",
            "Epoch 67/100\n",
            "1875/1875 [==============================] - 5s 2ms/step - loss: 0.0919 - accuracy: 0.9713 - val_loss: 0.0968 - val_accuracy: 0.9712\n",
            "Epoch 68/100\n",
            "1875/1875 [==============================] - 5s 2ms/step - loss: 0.0911 - accuracy: 0.9719 - val_loss: 0.0958 - val_accuracy: 0.9714\n",
            "Epoch 69/100\n",
            "1875/1875 [==============================] - 5s 3ms/step - loss: 0.0887 - accuracy: 0.9731 - val_loss: 0.0967 - val_accuracy: 0.9701\n",
            "Epoch 70/100\n",
            "1875/1875 [==============================] - 5s 3ms/step - loss: 0.0892 - accuracy: 0.9723 - val_loss: 0.0981 - val_accuracy: 0.9700\n",
            "Epoch 71/100\n",
            "1875/1875 [==============================] - 4s 2ms/step - loss: 0.0868 - accuracy: 0.9735 - val_loss: 0.0966 - val_accuracy: 0.9723\n",
            "Epoch 72/100\n",
            "1875/1875 [==============================] - 5s 2ms/step - loss: 0.0871 - accuracy: 0.9734 - val_loss: 0.0959 - val_accuracy: 0.9712\n",
            "Epoch 73/100\n",
            "1875/1875 [==============================] - 4s 2ms/step - loss: 0.0880 - accuracy: 0.9726 - val_loss: 0.0957 - val_accuracy: 0.9706\n",
            "Epoch 74/100\n",
            "1875/1875 [==============================] - 4s 2ms/step - loss: 0.0866 - accuracy: 0.9734 - val_loss: 0.0959 - val_accuracy: 0.9718\n",
            "Epoch 75/100\n",
            "1875/1875 [==============================] - 4s 2ms/step - loss: 0.0854 - accuracy: 0.9732 - val_loss: 0.0938 - val_accuracy: 0.9721\n",
            "Epoch 76/100\n",
            "1875/1875 [==============================] - 4s 2ms/step - loss: 0.0850 - accuracy: 0.9734 - val_loss: 0.0949 - val_accuracy: 0.9705\n",
            "Epoch 77/100\n",
            "1875/1875 [==============================] - 5s 2ms/step - loss: 0.0855 - accuracy: 0.9731 - val_loss: 0.0950 - val_accuracy: 0.9714\n",
            "Epoch 78/100\n",
            "1875/1875 [==============================] - 5s 3ms/step - loss: 0.0843 - accuracy: 0.9735 - val_loss: 0.0935 - val_accuracy: 0.9723\n",
            "Epoch 79/100\n",
            "1875/1875 [==============================] - 4s 2ms/step - loss: 0.0832 - accuracy: 0.9742 - val_loss: 0.0940 - val_accuracy: 0.9712\n",
            "Epoch 80/100\n",
            "1875/1875 [==============================] - 5s 3ms/step - loss: 0.0824 - accuracy: 0.9742 - val_loss: 0.0933 - val_accuracy: 0.9713\n",
            "Epoch 81/100\n",
            "1875/1875 [==============================] - 5s 2ms/step - loss: 0.0815 - accuracy: 0.9748 - val_loss: 0.0940 - val_accuracy: 0.9713\n",
            "Epoch 82/100\n",
            "1875/1875 [==============================] - 5s 3ms/step - loss: 0.0818 - accuracy: 0.9747 - val_loss: 0.0938 - val_accuracy: 0.9719\n",
            "Epoch 83/100\n",
            "1875/1875 [==============================] - 5s 3ms/step - loss: 0.0811 - accuracy: 0.9748 - val_loss: 0.0935 - val_accuracy: 0.9726\n",
            "Epoch 84/100\n",
            "1875/1875 [==============================] - 5s 3ms/step - loss: 0.0808 - accuracy: 0.9750 - val_loss: 0.0931 - val_accuracy: 0.9722\n",
            "Epoch 85/100\n",
            "1875/1875 [==============================] - 5s 2ms/step - loss: 0.0802 - accuracy: 0.9753 - val_loss: 0.0926 - val_accuracy: 0.9718\n",
            "Epoch 86/100\n",
            "1875/1875 [==============================] - 5s 3ms/step - loss: 0.0803 - accuracy: 0.9747 - val_loss: 0.0914 - val_accuracy: 0.9726\n",
            "Epoch 87/100\n",
            "1875/1875 [==============================] - 5s 2ms/step - loss: 0.0798 - accuracy: 0.9758 - val_loss: 0.0920 - val_accuracy: 0.9723\n",
            "Epoch 88/100\n",
            "1875/1875 [==============================] - 4s 2ms/step - loss: 0.0774 - accuracy: 0.9765 - val_loss: 0.0915 - val_accuracy: 0.9720\n",
            "Epoch 89/100\n",
            "1875/1875 [==============================] - 5s 3ms/step - loss: 0.0795 - accuracy: 0.9750 - val_loss: 0.0907 - val_accuracy: 0.9724\n",
            "Epoch 90/100\n",
            "1875/1875 [==============================] - 4s 2ms/step - loss: 0.0781 - accuracy: 0.9754 - val_loss: 0.0912 - val_accuracy: 0.9723\n",
            "Epoch 91/100\n",
            "1875/1875 [==============================] - 5s 3ms/step - loss: 0.0796 - accuracy: 0.9748 - val_loss: 0.0908 - val_accuracy: 0.9733\n",
            "Epoch 92/100\n",
            "1875/1875 [==============================] - 5s 3ms/step - loss: 0.0794 - accuracy: 0.9755 - val_loss: 0.0912 - val_accuracy: 0.9735\n",
            "Epoch 93/100\n",
            "1875/1875 [==============================] - 5s 2ms/step - loss: 0.0773 - accuracy: 0.9756 - val_loss: 0.0919 - val_accuracy: 0.9730\n",
            "Epoch 94/100\n",
            "1875/1875 [==============================] - 6s 3ms/step - loss: 0.0768 - accuracy: 0.9763 - val_loss: 0.0905 - val_accuracy: 0.9723\n",
            "Epoch 95/100\n",
            "1875/1875 [==============================] - 6s 3ms/step - loss: 0.0750 - accuracy: 0.9764 - val_loss: 0.0897 - val_accuracy: 0.9731\n",
            "Epoch 96/100\n",
            "1875/1875 [==============================] - 4s 2ms/step - loss: 0.0745 - accuracy: 0.9767 - val_loss: 0.0901 - val_accuracy: 0.9735\n",
            "Epoch 97/100\n",
            "1875/1875 [==============================] - 4s 2ms/step - loss: 0.0747 - accuracy: 0.9764 - val_loss: 0.0930 - val_accuracy: 0.9726\n",
            "Epoch 98/100\n",
            "1875/1875 [==============================] - 4s 2ms/step - loss: 0.0757 - accuracy: 0.9761 - val_loss: 0.0902 - val_accuracy: 0.9728\n",
            "Epoch 99/100\n",
            "1875/1875 [==============================] - 4s 2ms/step - loss: 0.0753 - accuracy: 0.9771 - val_loss: 0.0905 - val_accuracy: 0.9729\n",
            "Epoch 100/100\n",
            "1875/1875 [==============================] - 5s 3ms/step - loss: 0.0730 - accuracy: 0.9772 - val_loss: 0.0910 - val_accuracy: 0.9728\n"
          ],
          "name": "stdout"
        }
      ]
    },
    {
      "cell_type": "code",
      "metadata": {
        "id": "NGyUcPti4Jn9",
        "outputId": "0398c40a-dbaa-4c8d-cb85-824290184513",
        "colab": {
          "base_uri": "https://localhost:8080/",
          "height": 770
        }
      },
      "source": [
        "model_2.fit(x_train, y_train, epochs=20, validation_data=(x_test, y_test))"
      ],
      "execution_count": 53,
      "outputs": [
        {
          "output_type": "stream",
          "text": [
            "Epoch 1/20\n",
            "1875/1875 [==============================] - 5s 3ms/step - loss: 0.0977 - accuracy: 0.9715 - val_loss: 0.0916 - val_accuracy: 0.9728\n",
            "Epoch 2/20\n",
            "1875/1875 [==============================] - 5s 3ms/step - loss: 0.0948 - accuracy: 0.9718 - val_loss: 0.0905 - val_accuracy: 0.9727\n",
            "Epoch 3/20\n",
            "1875/1875 [==============================] - 5s 3ms/step - loss: 0.0913 - accuracy: 0.9733 - val_loss: 0.0883 - val_accuracy: 0.9739\n",
            "Epoch 4/20\n",
            "1875/1875 [==============================] - 6s 3ms/step - loss: 0.0888 - accuracy: 0.9741 - val_loss: 0.0855 - val_accuracy: 0.9735\n",
            "Epoch 5/20\n",
            "1875/1875 [==============================] - 5s 3ms/step - loss: 0.0855 - accuracy: 0.9750 - val_loss: 0.0841 - val_accuracy: 0.9751\n",
            "Epoch 6/20\n",
            "1875/1875 [==============================] - 5s 3ms/step - loss: 0.0841 - accuracy: 0.9749 - val_loss: 0.0825 - val_accuracy: 0.9751\n",
            "Epoch 7/20\n",
            "1875/1875 [==============================] - 6s 3ms/step - loss: 0.0819 - accuracy: 0.9755 - val_loss: 0.0822 - val_accuracy: 0.9751\n",
            "Epoch 8/20\n",
            "1875/1875 [==============================] - 6s 3ms/step - loss: 0.0795 - accuracy: 0.9764 - val_loss: 0.0808 - val_accuracy: 0.9759\n",
            "Epoch 9/20\n",
            "1875/1875 [==============================] - 5s 3ms/step - loss: 0.0781 - accuracy: 0.9772 - val_loss: 0.0800 - val_accuracy: 0.9763\n",
            "Epoch 10/20\n",
            "1875/1875 [==============================] - 5s 3ms/step - loss: 0.0759 - accuracy: 0.9776 - val_loss: 0.0785 - val_accuracy: 0.9764\n",
            "Epoch 11/20\n",
            "1875/1875 [==============================] - 5s 3ms/step - loss: 0.0748 - accuracy: 0.9773 - val_loss: 0.0779 - val_accuracy: 0.9761\n",
            "Epoch 12/20\n",
            "1875/1875 [==============================] - 6s 3ms/step - loss: 0.0722 - accuracy: 0.9786 - val_loss: 0.0763 - val_accuracy: 0.9772\n",
            "Epoch 13/20\n",
            "1875/1875 [==============================] - 8s 4ms/step - loss: 0.0700 - accuracy: 0.9795 - val_loss: 0.0754 - val_accuracy: 0.9771\n",
            "Epoch 14/20\n",
            "1875/1875 [==============================] - 9s 5ms/step - loss: 0.0699 - accuracy: 0.9787 - val_loss: 0.0745 - val_accuracy: 0.9775\n",
            "Epoch 15/20\n",
            "1875/1875 [==============================] - 10s 5ms/step - loss: 0.0673 - accuracy: 0.9797 - val_loss: 0.0738 - val_accuracy: 0.9775\n",
            "Epoch 16/20\n",
            "1875/1875 [==============================] - 5s 3ms/step - loss: 0.0653 - accuracy: 0.9806 - val_loss: 0.0752 - val_accuracy: 0.9769\n",
            "Epoch 17/20\n",
            "1875/1875 [==============================] - 5s 3ms/step - loss: 0.0662 - accuracy: 0.9795 - val_loss: 0.0724 - val_accuracy: 0.9779\n",
            "Epoch 18/20\n",
            "1875/1875 [==============================] - 5s 3ms/step - loss: 0.0632 - accuracy: 0.9813 - val_loss: 0.0735 - val_accuracy: 0.9771\n",
            "Epoch 19/20\n",
            "1875/1875 [==============================] - 5s 3ms/step - loss: 0.0614 - accuracy: 0.9818 - val_loss: 0.0727 - val_accuracy: 0.9773\n",
            "Epoch 20/20\n",
            "1875/1875 [==============================] - 5s 3ms/step - loss: 0.0619 - accuracy: 0.9817 - val_loss: 0.0701 - val_accuracy: 0.9783\n"
          ],
          "name": "stdout"
        },
        {
          "output_type": "execute_result",
          "data": {
            "text/plain": [
              "<tensorflow.python.keras.callbacks.History at 0x7f4d2f7ed550>"
            ]
          },
          "metadata": {
            "tags": []
          },
          "execution_count": 53
        }
      ]
    },
    {
      "cell_type": "code",
      "metadata": {
        "id": "T4OVtBkJ4ONQ",
        "outputId": "ecdaf49a-5a1a-4cb5-f5cb-a01f67e5dcbe",
        "colab": {
          "base_uri": "https://localhost:8080/",
          "height": 109
        }
      },
      "source": [
        "loss1, acc1 = model_1.evaluate(x_test, y_test)\n",
        "print(\"Loss = {}, accuracy = {}\".format(loss1, acc1))\n",
        "loss2, acc2 = model_1.evaluate(x_train, y_train)\n",
        "print(\"Loss = {}, accuracy = {}\".format(loss2, acc2))\n",
        "err1 =  (1-acc1)/(1-acc2)\n",
        "print(\"errors = \", err1)"
      ],
      "execution_count": 67,
      "outputs": [
        {
          "output_type": "stream",
          "text": [
            "313/313 [==============================] - 0s 1ms/step - loss: 0.0910 - accuracy: 0.9728\n",
            "Loss = 0.09096891433000565, accuracy = 0.9728000164031982\n",
            "1875/1875 [==============================] - 3s 2ms/step - loss: 0.0472 - accuracy: 0.9867\n",
            "Loss = 0.047199442982673645, accuracy = 0.9866666793823242\n",
            "errors =  2.0400007152564195\n"
          ],
          "name": "stdout"
        }
      ]
    },
    {
      "cell_type": "code",
      "metadata": {
        "id": "7zNxmVZatyuA",
        "outputId": "06ba9e56-2b82-4257-c5b8-f2dc157c0571",
        "colab": {
          "base_uri": "https://localhost:8080/",
          "height": 109
        }
      },
      "source": [
        "loss1, acc1 = model_2.evaluate(x_test, y_test)\n",
        "print(\"Loss = {}, accuracy = {}\".format(loss1, acc1))\n",
        "loss2, acc2 = model_2.evaluate(x_train, y_train)\n",
        "print(\"Loss = {}, accuracy = {}\".format(loss2, acc2))\n",
        "err2 =  (1-acc1)/(1-acc2)\n",
        "print(\"errors = \",err2)"
      ],
      "execution_count": 55,
      "outputs": [
        {
          "output_type": "stream",
          "text": [
            "313/313 [==============================] - 0s 1ms/step - loss: 0.0701 - accuracy: 0.9783\n",
            "Loss = 0.07013404369354248, accuracy = 0.9782999753952026\n",
            "1875/1875 [==============================] - 3s 2ms/step - loss: 0.0391 - accuracy: 0.9891\n",
            "Loss = 0.039147693663835526, accuracy = 0.9890833497047424\n",
            "errors =  1.9877914944499349\n"
          ],
          "name": "stdout"
        }
      ]
    },
    {
      "cell_type": "markdown",
      "metadata": {
        "id": "x4mK0ewE5gOW"
      },
      "source": [
        "Построение графика\n"
      ]
    },
    {
      "cell_type": "code",
      "metadata": {
        "id": "Gl8zOCSCsixI",
        "outputId": "5caa219a-9ca1-417c-b542-d7f483a9d5d7",
        "colab": {
          "base_uri": "https://localhost:8080/",
          "height": 606
        }
      },
      "source": [
        "history = history_1\n",
        "plt.figure(figsize=(16,10))\n",
        "plt.xlabel('Epochs')\n",
        "plt.ylabel(\"Sparse_categorical_crossentropy\")\n",
        "val = plt.plot(history.epoch, history.history['val_'+'loss'],\n",
        "                   '--', label='Val')\n",
        "plt.plot(history.epoch, history.history[\"loss\"], color=val[0].get_color(),\n",
        "             label='Train')\n",
        "plt.legend()\n",
        "plt.xlim([0,max(history.epoch)])\n",
        "plt.show()"
      ],
      "execution_count": 62,
      "outputs": [
        {
          "output_type": "display_data",
          "data": {
            "image/png": "[encoded data removed]",
            "text/plain": [
              "<Figure size 1152x720 with 1 Axes>"
            ]
          },
          "metadata": {
            "tags": [],
            "needs_background": "light"
          }
        }
      ]
    },
    {
      "cell_type": "code",
      "metadata": {
        "id": "M7wNw2f19H3T",
        "outputId": "6aab2f35-a913-467c-fe4c-f7466034260f",
        "colab": {
          "base_uri": "https://localhost:8080/",
          "height": 606
        }
      },
      "source": [
        "history = history_1\n",
        "plt.figure(figsize=(16,10))\n",
        "plt.xlabel('Epochs')\n",
        "plt.ylabel(\"Sparse_categorical_crossentropy\")\n",
        "val = plt.plot(history.epoch, history.history['val_'+'loss'],\n",
        "                   '--', label='Val')\n",
        "plt.plot(history.epoch, history.history[\"loss\"], color=val[0].get_color(),\n",
        "             label='Train')\n",
        "plt.legend()\n",
        "plt.xlim([0,max(history.epoch)])\n",
        "plt.show()"
      ],
      "execution_count": 68,
      "outputs": [
        {
          "output_type": "display_data",
          "data": {
            "image/png": "[encoded data removed]",
            "text/plain": [
              "<Figure size 1152x720 with 1 Axes>"
            ]
          },
          "metadata": {
            "tags": [],
            "needs_background": "light"
          }
        }
      ]
    }
  ]
}